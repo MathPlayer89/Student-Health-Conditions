{
 "cells": [
  {
   "cell_type": "markdown",
   "id": "0dea282d-dd92-4d9a-91c0-9047b3193b42",
   "metadata": {},
   "source": [
    "Imports are held here:"
   ]
  },
  {
   "cell_type": "code",
   "execution_count": 1,
   "id": "ba1f442f-c66a-4dcc-8b1a-ab65ebcbc52c",
   "metadata": {},
   "outputs": [],
   "source": [
    "#basic data analysis\n",
    "import numpy as np\n",
    "import pandas as pd\n",
    "\n",
    "#visualizations\n",
    "import matplotlib.pyplot as plt\n",
    "import seaborn as sns\n",
    "\n",
    "#other\n",
    "import scipy.stats as stats\n",
    "\n",
    "#datat preprocessing\n",
    "from sklearn.model_selection import train_test_split\n",
    "from sklearn.preprocessing import LabelEncoder, StandardScaler\n",
    "\n",
    "#model\n",
    "from sklearn.tree import DecisionTreeClassifier\n",
    "\n",
    "#evaluation metrics\n",
    "from sklearn.metrics import accuracy_score, confusion_matrix, f1_score #might not need confusion matrix"
   ]
  },
  {
   "cell_type": "markdown",
   "id": "78fce076-45c1-48c3-add1-8bf92943e3e7",
   "metadata": {},
   "source": [
    "# Clean Data "
   ]
  },
  {
   "cell_type": "code",
   "execution_count": 2,
   "id": "7a0261f0-6aae-4fb9-9ef6-010dac3c70ca",
   "metadata": {},
   "outputs": [],
   "source": [
    "#import the dataset\n",
    "student_health = pd.read_csv('student_health_data.csv')\n",
    "\n",
    "\n",
    "# drop student id\n",
    "student_health = student_health.drop(columns=[\"Student_ID\"])\n",
    "\n",
    "#convert object variables to categorical variables\n",
    "for col in student_health.select_dtypes(include = ['object']).columns:\n",
    "    student_health[col] = student_health[col].astype('category')"
   ]
  },
  {
   "cell_type": "code",
   "execution_count": 3,
   "id": "bf472952-8cfc-4791-8260-a2e77830486e",
   "metadata": {},
   "outputs": [],
   "source": [
    "#remove outliers\n",
    "\n",
    "#define function to identify outliers via IQR\n",
    "def identify_outliers(data, column):\n",
    "    Q1 = data[column].quantile(0.25)\n",
    "    Q3 = data[column].quantile(0.75)\n",
    "    IQR = Q3 - Q1\n",
    "    lower_bound = Q1 - 1.5 * IQR\n",
    "    upper_bound = Q3 + 1.5 * IQR\n",
    "    outliers = data[(data[column] < lower_bound) | (data[column] > upper_bound)]\n",
    "    return outliers\n",
    "\n",
    "#create dataframe to store outliers\n",
    "outliers_df = pd.DataFrame()\n",
    "\n",
    "#apply function to numerical variables\n",
    "#list of numerical variables\n",
    "numerical_var = ['Age', 'Heart_Rate', 'Blood_Pressure_Systolic', 'Blood_Pressure_Diastolic',\n",
    "                 'Stress_Level_Biosensor', 'Stress_Level_Self_Report', 'Study_Hours', 'Project_Hours']\n",
    "\n",
    "#iterate over variables\n",
    "for var in numerical_var:\n",
    "    outliers = identify_outliers(student_health, var)\n",
    "    #concatenate outliers to outlier dataframe\n",
    "    outliers_df = pd.concat([outliers_df, outliers])\n",
    "\n",
    "#drop duplicate rows since some rows may be outliers in multiple columns\n",
    "outliers_df = outliers_df.drop_duplicates()\n",
    "\n",
    "#get outlier indices\n",
    "outlier_indices = outliers_df.index\n",
    "\n",
    "#drop rows in dataset with outlier indices\n",
    "cleaned_df = student_health.drop(outlier_indices)"
   ]
  },
  {
   "cell_type": "markdown",
   "id": "0c206f2d-bc21-462a-91ce-d0df0bd973de",
   "metadata": {},
   "source": [
    "Now let's import and take a look at the data:"
   ]
  },
  {
   "cell_type": "code",
   "execution_count": null,
   "id": "4eab341b-46b2-496b-840e-7298bdc60ab9",
   "metadata": {},
   "outputs": [],
   "source": []
  },
  {
   "cell_type": "markdown",
   "id": "5357e243-7db2-40de-ac6e-e9ba8f7212b3",
   "metadata": {},
   "source": [
    "From looking at the first few instances, I can see that some variables are continuous and some are categorical. It also looks like Student_ID could be removed."
   ]
  },
  {
   "cell_type": "code",
   "execution_count": 4,
   "id": "89589ee3-30e7-44c0-a868-4e9eddb65222",
   "metadata": {},
   "outputs": [
    {
     "name": "stdout",
     "output_type": "stream",
     "text": [
      "Age                         0\n",
      "Gender                      0\n",
      "Heart_Rate                  0\n",
      "Blood_Pressure_Systolic     0\n",
      "Blood_Pressure_Diastolic    0\n",
      "Stress_Level_Biosensor      0\n",
      "Stress_Level_Self_Report    0\n",
      "Physical_Activity           0\n",
      "Sleep_Quality               0\n",
      "Mood                        0\n",
      "Study_Hours                 0\n",
      "Project_Hours               0\n",
      "Health_Risk_Level           0\n",
      "dtype: int64\n",
      "0\n"
     ]
    }
   ],
   "source": [
    "#check for missing values\n",
    "print(student_health.isna().sum())\n",
    "\n",
    "#check for duplicates\n",
    "print(student_health.duplicated().sum())"
   ]
  },
  {
   "cell_type": "markdown",
   "id": "5d6816cd-bfec-441d-b5a6-abf7dca5f5fb",
   "metadata": {},
   "source": [
    "No missing values and, as expected, no duplicates. Let's go ahead and remove Student_ID"
   ]
  },
  {
   "cell_type": "code",
   "execution_count": 5,
   "id": "022f89ef-a79e-421e-a1ad-95b01fe2a172",
   "metadata": {},
   "outputs": [
    {
     "ename": "KeyError",
     "evalue": "\"['Student_ID'] not found in axis\"",
     "output_type": "error",
     "traceback": [
      "\u001b[0;31m---------------------------------------------------------------------------\u001b[0m",
      "\u001b[0;31mKeyError\u001b[0m                                  Traceback (most recent call last)",
      "\u001b[0;32m<ipython-input-5-f852460ad723>\u001b[0m in \u001b[0;36m<module>\u001b[0;34m\u001b[0m\n\u001b[0;32m----> 1\u001b[0;31m \u001b[0mstudent_health\u001b[0m \u001b[0;34m=\u001b[0m \u001b[0mstudent_health\u001b[0m\u001b[0;34m.\u001b[0m\u001b[0mdrop\u001b[0m\u001b[0;34m(\u001b[0m\u001b[0mcolumns\u001b[0m\u001b[0;34m=\u001b[0m\u001b[0;34m[\u001b[0m\u001b[0;34m\"Student_ID\"\u001b[0m\u001b[0;34m]\u001b[0m\u001b[0;34m)\u001b[0m\u001b[0;34m\u001b[0m\u001b[0;34m\u001b[0m\u001b[0m\n\u001b[0m\u001b[1;32m      2\u001b[0m \u001b[0mstudent_health\u001b[0m\u001b[0;34m.\u001b[0m\u001b[0mhead\u001b[0m\u001b[0;34m(\u001b[0m\u001b[0;34m)\u001b[0m\u001b[0;34m\u001b[0m\u001b[0;34m\u001b[0m\u001b[0m\n",
      "\u001b[0;32m/usr/local/lib64/python3.6/site-packages/pandas/core/frame.py\u001b[0m in \u001b[0;36mdrop\u001b[0;34m(self, labels, axis, index, columns, level, inplace, errors)\u001b[0m\n\u001b[1;32m   3995\u001b[0m             \u001b[0mlevel\u001b[0m\u001b[0;34m=\u001b[0m\u001b[0mlevel\u001b[0m\u001b[0;34m,\u001b[0m\u001b[0;34m\u001b[0m\u001b[0;34m\u001b[0m\u001b[0m\n\u001b[1;32m   3996\u001b[0m             \u001b[0minplace\u001b[0m\u001b[0;34m=\u001b[0m\u001b[0minplace\u001b[0m\u001b[0;34m,\u001b[0m\u001b[0;34m\u001b[0m\u001b[0;34m\u001b[0m\u001b[0m\n\u001b[0;32m-> 3997\u001b[0;31m             \u001b[0merrors\u001b[0m\u001b[0;34m=\u001b[0m\u001b[0merrors\u001b[0m\u001b[0;34m,\u001b[0m\u001b[0;34m\u001b[0m\u001b[0;34m\u001b[0m\u001b[0m\n\u001b[0m\u001b[1;32m   3998\u001b[0m         )\n\u001b[1;32m   3999\u001b[0m \u001b[0;34m\u001b[0m\u001b[0m\n",
      "\u001b[0;32m/usr/local/lib64/python3.6/site-packages/pandas/core/generic.py\u001b[0m in \u001b[0;36mdrop\u001b[0;34m(self, labels, axis, index, columns, level, inplace, errors)\u001b[0m\n\u001b[1;32m   3934\u001b[0m         \u001b[0;32mfor\u001b[0m \u001b[0maxis\u001b[0m\u001b[0;34m,\u001b[0m \u001b[0mlabels\u001b[0m \u001b[0;32min\u001b[0m \u001b[0maxes\u001b[0m\u001b[0;34m.\u001b[0m\u001b[0mitems\u001b[0m\u001b[0;34m(\u001b[0m\u001b[0;34m)\u001b[0m\u001b[0;34m:\u001b[0m\u001b[0;34m\u001b[0m\u001b[0;34m\u001b[0m\u001b[0m\n\u001b[1;32m   3935\u001b[0m             \u001b[0;32mif\u001b[0m \u001b[0mlabels\u001b[0m \u001b[0;32mis\u001b[0m \u001b[0;32mnot\u001b[0m \u001b[0;32mNone\u001b[0m\u001b[0;34m:\u001b[0m\u001b[0;34m\u001b[0m\u001b[0;34m\u001b[0m\u001b[0m\n\u001b[0;32m-> 3936\u001b[0;31m                 \u001b[0mobj\u001b[0m \u001b[0;34m=\u001b[0m \u001b[0mobj\u001b[0m\u001b[0;34m.\u001b[0m\u001b[0m_drop_axis\u001b[0m\u001b[0;34m(\u001b[0m\u001b[0mlabels\u001b[0m\u001b[0;34m,\u001b[0m \u001b[0maxis\u001b[0m\u001b[0;34m,\u001b[0m \u001b[0mlevel\u001b[0m\u001b[0;34m=\u001b[0m\u001b[0mlevel\u001b[0m\u001b[0;34m,\u001b[0m \u001b[0merrors\u001b[0m\u001b[0;34m=\u001b[0m\u001b[0merrors\u001b[0m\u001b[0;34m)\u001b[0m\u001b[0;34m\u001b[0m\u001b[0;34m\u001b[0m\u001b[0m\n\u001b[0m\u001b[1;32m   3937\u001b[0m \u001b[0;34m\u001b[0m\u001b[0m\n\u001b[1;32m   3938\u001b[0m         \u001b[0;32mif\u001b[0m \u001b[0minplace\u001b[0m\u001b[0;34m:\u001b[0m\u001b[0;34m\u001b[0m\u001b[0;34m\u001b[0m\u001b[0m\n",
      "\u001b[0;32m/usr/local/lib64/python3.6/site-packages/pandas/core/generic.py\u001b[0m in \u001b[0;36m_drop_axis\u001b[0;34m(self, labels, axis, level, errors)\u001b[0m\n\u001b[1;32m   3968\u001b[0m                 \u001b[0mnew_axis\u001b[0m \u001b[0;34m=\u001b[0m \u001b[0maxis\u001b[0m\u001b[0;34m.\u001b[0m\u001b[0mdrop\u001b[0m\u001b[0;34m(\u001b[0m\u001b[0mlabels\u001b[0m\u001b[0;34m,\u001b[0m \u001b[0mlevel\u001b[0m\u001b[0;34m=\u001b[0m\u001b[0mlevel\u001b[0m\u001b[0;34m,\u001b[0m \u001b[0merrors\u001b[0m\u001b[0;34m=\u001b[0m\u001b[0merrors\u001b[0m\u001b[0;34m)\u001b[0m\u001b[0;34m\u001b[0m\u001b[0;34m\u001b[0m\u001b[0m\n\u001b[1;32m   3969\u001b[0m             \u001b[0;32melse\u001b[0m\u001b[0;34m:\u001b[0m\u001b[0;34m\u001b[0m\u001b[0;34m\u001b[0m\u001b[0m\n\u001b[0;32m-> 3970\u001b[0;31m                 \u001b[0mnew_axis\u001b[0m \u001b[0;34m=\u001b[0m \u001b[0maxis\u001b[0m\u001b[0;34m.\u001b[0m\u001b[0mdrop\u001b[0m\u001b[0;34m(\u001b[0m\u001b[0mlabels\u001b[0m\u001b[0;34m,\u001b[0m \u001b[0merrors\u001b[0m\u001b[0;34m=\u001b[0m\u001b[0merrors\u001b[0m\u001b[0;34m)\u001b[0m\u001b[0;34m\u001b[0m\u001b[0;34m\u001b[0m\u001b[0m\n\u001b[0m\u001b[1;32m   3971\u001b[0m             \u001b[0mresult\u001b[0m \u001b[0;34m=\u001b[0m \u001b[0mself\u001b[0m\u001b[0;34m.\u001b[0m\u001b[0mreindex\u001b[0m\u001b[0;34m(\u001b[0m\u001b[0;34m**\u001b[0m\u001b[0;34m{\u001b[0m\u001b[0maxis_name\u001b[0m\u001b[0;34m:\u001b[0m \u001b[0mnew_axis\u001b[0m\u001b[0;34m}\u001b[0m\u001b[0;34m)\u001b[0m\u001b[0;34m\u001b[0m\u001b[0;34m\u001b[0m\u001b[0m\n\u001b[1;32m   3972\u001b[0m \u001b[0;34m\u001b[0m\u001b[0m\n",
      "\u001b[0;32m/usr/local/lib64/python3.6/site-packages/pandas/core/indexes/base.py\u001b[0m in \u001b[0;36mdrop\u001b[0;34m(self, labels, errors)\u001b[0m\n\u001b[1;32m   5015\u001b[0m         \u001b[0;32mif\u001b[0m \u001b[0mmask\u001b[0m\u001b[0;34m.\u001b[0m\u001b[0many\u001b[0m\u001b[0;34m(\u001b[0m\u001b[0;34m)\u001b[0m\u001b[0;34m:\u001b[0m\u001b[0;34m\u001b[0m\u001b[0;34m\u001b[0m\u001b[0m\n\u001b[1;32m   5016\u001b[0m             \u001b[0;32mif\u001b[0m \u001b[0merrors\u001b[0m \u001b[0;34m!=\u001b[0m \u001b[0;34m\"ignore\"\u001b[0m\u001b[0;34m:\u001b[0m\u001b[0;34m\u001b[0m\u001b[0;34m\u001b[0m\u001b[0m\n\u001b[0;32m-> 5017\u001b[0;31m                 \u001b[0;32mraise\u001b[0m \u001b[0mKeyError\u001b[0m\u001b[0;34m(\u001b[0m\u001b[0;34mf\"{labels[mask]} not found in axis\"\u001b[0m\u001b[0;34m)\u001b[0m\u001b[0;34m\u001b[0m\u001b[0;34m\u001b[0m\u001b[0m\n\u001b[0m\u001b[1;32m   5018\u001b[0m             \u001b[0mindexer\u001b[0m \u001b[0;34m=\u001b[0m \u001b[0mindexer\u001b[0m\u001b[0;34m[\u001b[0m\u001b[0;34m~\u001b[0m\u001b[0mmask\u001b[0m\u001b[0;34m]\u001b[0m\u001b[0;34m\u001b[0m\u001b[0;34m\u001b[0m\u001b[0m\n\u001b[1;32m   5019\u001b[0m         \u001b[0;32mreturn\u001b[0m \u001b[0mself\u001b[0m\u001b[0;34m.\u001b[0m\u001b[0mdelete\u001b[0m\u001b[0;34m(\u001b[0m\u001b[0mindexer\u001b[0m\u001b[0;34m)\u001b[0m\u001b[0;34m\u001b[0m\u001b[0;34m\u001b[0m\u001b[0m\n",
      "\u001b[0;31mKeyError\u001b[0m: \"['Student_ID'] not found in axis\""
     ]
    }
   ],
   "source": [
    "student_health = student_health.drop(columns=[\"Student_ID\"])\n",
    "student_health.head()"
   ]
  },
  {
   "cell_type": "code",
   "execution_count": null,
   "id": "6b5cec52-499d-49c1-b062-b7016bdbd727",
   "metadata": {},
   "outputs": [],
   "source": [
    "#look at shape/dimension of dataset\n",
    "print(student_health.shape)\n",
    "#look at data types for each column\n",
    "print(student_health.dtypes)"
   ]
  },
  {
   "cell_type": "markdown",
   "id": "ee542ea6-3250-4faa-94d7-9767effd0a85",
   "metadata": {},
   "source": [
    "The dataset consists of numerical variables (integer and float) and object variables. Looking through, these object variables are really just categorical variables. So let's change the datatype from object to categorical."
   ]
  },
  {
   "cell_type": "code",
   "execution_count": null,
   "id": "c6ae6ff3-eb5c-4e56-9353-9068095b59dd",
   "metadata": {},
   "outputs": [],
   "source": [
    "#convert object variables to categorical variables\n",
    "for col in student_health.select_dtypes(include = ['object']).columns:\n",
    "    student_health[col] = student_health[col].astype('category')\n",
    "\n",
    "#check data types\n",
    "print(student_health.dtypes)"
   ]
  },
  {
   "cell_type": "markdown",
   "id": "badd542b-bff5-447f-9e45-2dc3080b1b96",
   "metadata": {},
   "source": [
    "Now all objects are set as category. This will help with analyzing the data before modeling."
   ]
  },
  {
   "cell_type": "markdown",
   "id": "0fa746e3-78d5-44f4-8048-05e3b8dad2e1",
   "metadata": {},
   "source": [
    "The next step is to look at the numerical variables in more detail. Let's see if we can detect outliers."
   ]
  },
  {
   "cell_type": "code",
   "execution_count": null,
   "id": "9906d34b-9823-4194-b0ef-e6310d40284b",
   "metadata": {
    "scrolled": true
   },
   "outputs": [],
   "source": [
    "#basic stats for numerical columns\n",
    "student_health.describe()"
   ]
  },
  {
   "cell_type": "markdown",
   "id": "da1dd9b7-f149-44d5-83e1-7a14d9973884",
   "metadata": {},
   "source": [
    "Above we have descriptive stats. We can see that the variables are on different scales - something to address when preparing for modeling. It also looks like there may be some outliers. In specific, there's a pretty big jump from 75% to max in Heart_Rate, Blood_Pressure_Systolic, Blood_Pressure_Diastolic, Study_Hours, and Project_Hours. Futher analysis will be needed."
   ]
  },
  {
   "cell_type": "markdown",
   "id": "037ea8a9-694b-402d-984a-8b0d66fd2c61",
   "metadata": {},
   "source": [
    "To analyze potential outliers further, let's utilize some visualizations:"
   ]
  },
  {
   "cell_type": "code",
   "execution_count": null,
   "id": "a27bded1-f4ae-4158-8ad0-8d0b0ebb91ae",
   "metadata": {
    "scrolled": true
   },
   "outputs": [],
   "source": [
    "#list of numerical variables\n",
    "numerical_var = ['Age', 'Heart_Rate', 'Blood_Pressure_Systolic', 'Blood_Pressure_Diastolic',\n",
    "                 'Stress_Level_Biosensor', 'Stress_Level_Self_Report', 'Study_Hours', 'Project_Hours']"
   ]
  },
  {
   "cell_type": "code",
   "execution_count": null,
   "id": "0095387d-55fe-4745-a3ab-e2e57f3ef62c",
   "metadata": {},
   "outputs": [],
   "source": [
    "#define function to identify outliers via IQR\n",
    "def identify_outliers(data, column):\n",
    "    Q1 = data[column].quantile(0.25)\n",
    "    Q3 = data[column].quantile(0.75)\n",
    "    IQR = Q3 - Q1\n",
    "    lower_bound = Q1 - 1.5 * IQR\n",
    "    upper_bound = Q3 + 1.5 * IQR\n",
    "    outliers = data[(data[column] < lower_bound) | (data[column] > upper_bound)]\n",
    "    return outliers\n",
    "\n",
    "#create dataframe to store outliers\n",
    "outliers_df = pd.DataFrame()\n",
    "\n",
    "#apply function to numerical variables\n",
    "#iterate over variables\n",
    "for var in numerical_var:\n",
    "    outliers = identify_outliers(student_health, var)\n",
    "    #concatenate outliers to outlier dataframe\n",
    "    outliers_df = pd.concat([outliers_df, outliers])\n",
    "\n",
    "#drop duplicate rows since some rows may be outliers in multiple columns\n",
    "outliers_df = outliers_df.drop_duplicates()\n",
    "\n",
    "#display the outliers\n",
    "outliers_df"
   ]
  },
  {
   "cell_type": "code",
   "execution_count": null,
   "id": "4a2be8a5-83e6-4ba6-b5f6-0b1e7be5cc5d",
   "metadata": {},
   "outputs": [],
   "source": [
    "#look at shape/dimension of dataset\n",
    "outliers_df.shape"
   ]
  },
  {
   "cell_type": "markdown",
   "id": "90261945-3baf-431e-adf5-2d70cbd4f3c3",
   "metadata": {},
   "source": [
    "Here is what I see looking at the outliers:\n",
    "- Heart_Rate has 5 outliers, each with high values. This also represents the first 5 instances in the outliers_df dataframe.\n",
    "- Blood_Pressure_Systolic has 1 outlier, which is also the max value. This is the 6th instance.\n",
    "- Blood_Pressure_Diastolic also has 1 outlier, which is also the max value. This is the 7th instance.\n",
    "- Stress levels don't seem to hold any outliers.\n",
    "- Study_Hours have 3 outliers, each with high values. This covers 8th - 10th instances\n",
    "- Project_Hours have 11 outliers, with both high and low values. Some of these values don't quite make sense, indicating that maybe there was a data entry problem.\n",
    "\n",
    "Aside from that, some of the features have high or low values shown in the table that we can note, but are within the IQR."
   ]
  },
  {
   "cell_type": "markdown",
   "id": "df92af94-5375-4afa-b5e1-7f7be88bf1aa",
   "metadata": {},
   "source": [
    "Only 21 instance were considered to have outliers. Realistically, we can remove these and still have plenty of data to work with since the original dataset contains 1000 instances. With that in mind, let's goahead and remove the instances with outliers."
   ]
  },
  {
   "cell_type": "code",
   "execution_count": null,
   "id": "9307d002-1d2b-4b65-8fb7-1c5dc0805fd0",
   "metadata": {},
   "outputs": [],
   "source": [
    "#get outlier indices\n",
    "outlier_indices = outliers_df.index\n",
    "\n",
    "#drop rows in dataset with outlier indices\n",
    "cleaned_df = student_health.drop(outlier_indices)\n",
    "\n",
    "#look at dimension of dataset\n",
    "print(cleaned_df.shape)"
   ]
  },
  {
   "cell_type": "code",
   "execution_count": null,
   "id": "e6971460-b151-4dee-84f7-268d935877a0",
   "metadata": {},
   "outputs": [],
   "source": [
    "#look at basic stats\n",
    "cleaned_df.describe()"
   ]
  },
  {
   "cell_type": "markdown",
   "id": "13ed91ba-151a-463f-9663-9fdd158270d1",
   "metadata": {},
   "source": [
    "Looks like we successfully removed all outliers!"
   ]
  },
  {
   "cell_type": "markdown",
   "id": "ed5529a1-f327-4c22-8c9c-7161481b88cc",
   "metadata": {},
   "source": [
    "### Categorical"
   ]
  },
  {
   "cell_type": "code",
   "execution_count": null,
   "id": "baae3fd0-faf6-4ad6-9db2-791db1684006",
   "metadata": {
    "scrolled": true
   },
   "outputs": [],
   "source": [
    "#look at value counts for non-numerical columns\n",
    "\n",
    "#create vector for non-numeric columns\n",
    "obj_var = ['Gender', 'Physical_Activity', 'Sleep_Quality', 'Mood', 'Health_Risk_Level']\n",
    "\n",
    "#iterate through each variable and print\n",
    "for i in obj_var:\n",
    "    print(cleaned_df[i].value_counts(), '\\n')"
   ]
  },
  {
   "cell_type": "markdown",
   "id": "78f2369d-dbd8-4fb0-a848-910f39d09bd4",
   "metadata": {
    "tags": []
   },
   "source": [
    "# Getting Ready to Model"
   ]
  },
  {
   "cell_type": "markdown",
   "id": "76744916-bed5-446e-9eae-1e45ee893cab",
   "metadata": {
    "tags": []
   },
   "source": [
    "#### Split the data"
   ]
  },
  {
   "cell_type": "markdown",
   "id": "429cc3d6-dd8b-4664-895d-a9e24c2dd6ae",
   "metadata": {},
   "source": [
    "First we separate the our features and target. We'll make a feature matrix and a target vector."
   ]
  },
  {
   "cell_type": "code",
   "execution_count": 6,
   "id": "986d73a8-6a36-447f-b829-aafe6dd3dcc0",
   "metadata": {},
   "outputs": [],
   "source": [
    "#define feature matrix and target vector\n",
    "X = cleaned_df.drop(columns = [\"Health_Risk_Level\"])\n",
    "y = cleaned_df[\"Health_Risk_Level\"]"
   ]
  },
  {
   "cell_type": "code",
   "execution_count": 7,
   "id": "f0183885-f8ac-4899-85fd-ec4666510629",
   "metadata": {},
   "outputs": [
    {
     "name": "stdout",
     "output_type": "stream",
     "text": [
      "cleaned_df size: (979, 13)\n",
      "feature matrix size: (979, 12)\n",
      "target vector size: (979,)\n"
     ]
    }
   ],
   "source": [
    "#check sizes\n",
    "print(f'cleaned_df size: {cleaned_df.shape}')\n",
    "print(f'feature matrix size: {X.shape}')\n",
    "print(f'target vector size: {y.shape}')"
   ]
  },
  {
   "cell_type": "code",
   "execution_count": 8,
   "id": "87f19ea0-5c32-4cc2-b82a-5ff2035de29b",
   "metadata": {},
   "outputs": [
    {
     "data": {
      "text/html": [
       "<div>\n",
       "<style scoped>\n",
       "    .dataframe tbody tr th:only-of-type {\n",
       "        vertical-align: middle;\n",
       "    }\n",
       "\n",
       "    .dataframe tbody tr th {\n",
       "        vertical-align: top;\n",
       "    }\n",
       "\n",
       "    .dataframe thead th {\n",
       "        text-align: right;\n",
       "    }\n",
       "</style>\n",
       "<table border=\"1\" class=\"dataframe\">\n",
       "  <thead>\n",
       "    <tr style=\"text-align: right;\">\n",
       "      <th></th>\n",
       "      <th>Age</th>\n",
       "      <th>Gender</th>\n",
       "      <th>Heart_Rate</th>\n",
       "      <th>Blood_Pressure_Systolic</th>\n",
       "      <th>Blood_Pressure_Diastolic</th>\n",
       "      <th>Stress_Level_Biosensor</th>\n",
       "      <th>Stress_Level_Self_Report</th>\n",
       "      <th>Physical_Activity</th>\n",
       "      <th>Sleep_Quality</th>\n",
       "      <th>Mood</th>\n",
       "      <th>Study_Hours</th>\n",
       "      <th>Project_Hours</th>\n",
       "    </tr>\n",
       "  </thead>\n",
       "  <tbody>\n",
       "    <tr>\n",
       "      <th>0</th>\n",
       "      <td>24</td>\n",
       "      <td>M</td>\n",
       "      <td>50.663217</td>\n",
       "      <td>122.173015</td>\n",
       "      <td>84.419860</td>\n",
       "      <td>3.137350</td>\n",
       "      <td>9.028669</td>\n",
       "      <td>High</td>\n",
       "      <td>Moderate</td>\n",
       "      <td>Happy</td>\n",
       "      <td>34.520973</td>\n",
       "      <td>16.800956</td>\n",
       "    </tr>\n",
       "    <tr>\n",
       "      <th>1</th>\n",
       "      <td>21</td>\n",
       "      <td>F</td>\n",
       "      <td>57.926042</td>\n",
       "      <td>110.778407</td>\n",
       "      <td>75.696145</td>\n",
       "      <td>3.699078</td>\n",
       "      <td>5.819697</td>\n",
       "      <td>Moderate</td>\n",
       "      <td>Good</td>\n",
       "      <td>Stressed</td>\n",
       "      <td>16.763846</td>\n",
       "      <td>15.791154</td>\n",
       "    </tr>\n",
       "    <tr>\n",
       "      <th>2</th>\n",
       "      <td>22</td>\n",
       "      <td>M</td>\n",
       "      <td>59.294219</td>\n",
       "      <td>109.375673</td>\n",
       "      <td>83.803814</td>\n",
       "      <td>6.785156</td>\n",
       "      <td>5.892360</td>\n",
       "      <td>Low</td>\n",
       "      <td>Moderate</td>\n",
       "      <td>Happy</td>\n",
       "      <td>44.203798</td>\n",
       "      <td>25.678437</td>\n",
       "    </tr>\n",
       "    <tr>\n",
       "      <th>3</th>\n",
       "      <td>24</td>\n",
       "      <td>M</td>\n",
       "      <td>76.826232</td>\n",
       "      <td>125.142227</td>\n",
       "      <td>78.091587</td>\n",
       "      <td>6.408509</td>\n",
       "      <td>6.884001</td>\n",
       "      <td>High</td>\n",
       "      <td>Poor</td>\n",
       "      <td>Happy</td>\n",
       "      <td>21.776645</td>\n",
       "      <td>20.808391</td>\n",
       "    </tr>\n",
       "    <tr>\n",
       "      <th>4</th>\n",
       "      <td>20</td>\n",
       "      <td>M</td>\n",
       "      <td>68.342769</td>\n",
       "      <td>107.515592</td>\n",
       "      <td>80.674937</td>\n",
       "      <td>7.264719</td>\n",
       "      <td>4.483450</td>\n",
       "      <td>Moderate</td>\n",
       "      <td>Poor</td>\n",
       "      <td>Happy</td>\n",
       "      <td>8.964999</td>\n",
       "      <td>15.194045</td>\n",
       "    </tr>\n",
       "  </tbody>\n",
       "</table>\n",
       "</div>"
      ],
      "text/plain": [
       "   Age Gender  Heart_Rate  Blood_Pressure_Systolic  Blood_Pressure_Diastolic  \\\n",
       "0   24      M   50.663217               122.173015                 84.419860   \n",
       "1   21      F   57.926042               110.778407                 75.696145   \n",
       "2   22      M   59.294219               109.375673                 83.803814   \n",
       "3   24      M   76.826232               125.142227                 78.091587   \n",
       "4   20      M   68.342769               107.515592                 80.674937   \n",
       "\n",
       "   Stress_Level_Biosensor  Stress_Level_Self_Report Physical_Activity  \\\n",
       "0                3.137350                  9.028669              High   \n",
       "1                3.699078                  5.819697          Moderate   \n",
       "2                6.785156                  5.892360               Low   \n",
       "3                6.408509                  6.884001              High   \n",
       "4                7.264719                  4.483450          Moderate   \n",
       "\n",
       "  Sleep_Quality      Mood  Study_Hours  Project_Hours  \n",
       "0      Moderate     Happy    34.520973      16.800956  \n",
       "1          Good  Stressed    16.763846      15.791154  \n",
       "2      Moderate     Happy    44.203798      25.678437  \n",
       "3          Poor     Happy    21.776645      20.808391  \n",
       "4          Poor     Happy     8.964999      15.194045  "
      ]
     },
     "execution_count": 8,
     "metadata": {},
     "output_type": "execute_result"
    }
   ],
   "source": [
    "X.head()"
   ]
  },
  {
   "cell_type": "markdown",
   "id": "77253ae6-e34e-4542-9a0f-08f714084bde",
   "metadata": {},
   "source": [
    "Next step is to split the data into a training set (80%), and validation set for hyperparameter tuning (10%) and a test set for a final model performance (10%)"
   ]
  },
  {
   "cell_type": "code",
   "execution_count": 9,
   "id": "2c60e33e-6bf5-42d6-9cb7-be1d1ff203f1",
   "metadata": {},
   "outputs": [],
   "source": [
    "#split data into a training set and a temp set\n",
    "X_train, X_temp, y_train, y_temp = train_test_split(X, y, test_size = 0.2, stratify = y, random_state = 12)\n",
    "\n",
    "#split the temp set into a validation set and final test set\n",
    "X_val, X_test, y_val, y_test = train_test_split(X_temp, y_temp, test_size = 0.5, stratify = y_temp, random_state = 12)"
   ]
  },
  {
   "cell_type": "markdown",
   "id": "7e3311ee-1002-4cb1-b8ef-75b9d284d2b4",
   "metadata": {},
   "source": [
    "Now to ensure that that the split occurred as desired. First we check the sizes of our feature sets"
   ]
  },
  {
   "cell_type": "code",
   "execution_count": 10,
   "id": "87deae60-b62a-431b-ac30-4c01efb7e222",
   "metadata": {},
   "outputs": [
    {
     "name": "stdout",
     "output_type": "stream",
     "text": [
      "Training set size: 783\n",
      "Validation set size: 98\n",
      "Test set size: 98\n"
     ]
    }
   ],
   "source": [
    "#check number of instances in each split\n",
    "print(f\"Training set size: {X_train.shape[0]}\") #X_train.shape[0] gives the number of rows in the trainin set\n",
    "print(f\"Validation set size: {X_val.shape[0]}\")\n",
    "print(f\"Test set size: {X_test.shape[0]}\")"
   ]
  },
  {
   "cell_type": "code",
   "execution_count": 11,
   "id": "6f3a3cf1-6c35-494f-b9b7-7386f16c2041",
   "metadata": {},
   "outputs": [
    {
     "name": "stdout",
     "output_type": "stream",
     "text": [
      "0.7997957099080695\n",
      "0.10010214504596528\n"
     ]
    }
   ],
   "source": [
    "print(783/979)\n",
    "print(98/979)"
   ]
  },
  {
   "cell_type": "markdown",
   "id": "c0f165df-3471-4267-8ca3-fe3c24d70098",
   "metadata": {},
   "source": [
    "Now to ensure that each target variable has the same distribution."
   ]
  },
  {
   "cell_type": "code",
   "execution_count": 12,
   "id": "8925c69e-1052-4650-ab66-7b43dcd1dd1b",
   "metadata": {},
   "outputs": [
    {
     "name": "stdout",
     "output_type": "stream",
     "text": [
      "Class distribution in Training Set:\n",
      "Moderate    0.670498\n",
      "Low         0.190294\n",
      "High        0.139208\n",
      "Name: Health_Risk_Level, dtype: float64\n",
      "\n",
      "Class distribution in Validation Set:\n",
      "Moderate    0.663265\n",
      "Low         0.193878\n",
      "High        0.142857\n",
      "Name: Health_Risk_Level, dtype: float64\n",
      "\n",
      "Class distribution in Test Set:\n",
      "Moderate    0.673469\n",
      "Low         0.183673\n",
      "High        0.142857\n",
      "Name: Health_Risk_Level, dtype: float64\n"
     ]
    }
   ],
   "source": [
    "#print class distribution as percent\n",
    "print(\"Class distribution in Training Set:\") #training set\n",
    "print(y_train.value_counts(normalize=True))  #normalized (percentages)\n",
    "\n",
    "print(\"\\nClass distribution in Validation Set:\") #validation set\n",
    "print(y_val.value_counts(normalize=True))\n",
    "\n",
    "print(\"\\nClass distribution in Test Set:\") #test set\n",
    "print(y_test.value_counts(normalize=True))"
   ]
  },
  {
   "cell_type": "markdown",
   "id": "98a223c6-9bab-4726-9b64-c7d32613ac43",
   "metadata": {},
   "source": [
    "As we can see, the data has been successfully split!"
   ]
  },
  {
   "cell_type": "markdown",
   "id": "3e772e5c-1a31-4d6d-adc2-c2cb1bcf8f51",
   "metadata": {},
   "source": [
    "#### Preprocess the data"
   ]
  },
  {
   "cell_type": "markdown",
   "id": "2af8cb76-b3ba-4990-9975-28437114e1f9",
   "metadata": {},
   "source": [
    "Now that the data has been split, let's go ahead and preprocess it. We begin by encoding the categorical data.\n",
    "- It should be noted that tree-based models don't require as much preprocessing, but to ensure consistency across different models (tree-based, KNN, SVM), it's simpler to preprocess the data once and use the preprocessed data for all models.\n",
    "- LabelEncoder converts each category into a unique integer.\n",
    "- pd.get_dummies is used for one-hot encoding\n",
    "- Aligning ensures all datasets have the same features."
   ]
  },
  {
   "cell_type": "code",
   "execution_count": 13,
   "id": "d209f7a9-19c8-43bc-ba46-cb18f7cc410d",
   "metadata": {},
   "outputs": [],
   "source": [
    "#encode categorical features - uses one-hot encoding\n",
    "X_train_encode = pd.get_dummies(X_train)\n",
    "X_val_encode = pd.get_dummies(X_val)\n",
    "X_test_encode = pd.get_dummies(X_test)\n",
    "\n",
    "#align validation and test sets with training set - ensures same columns\n",
    "X_val_encode = X_val_encode.reindex(columns = X_train_encode.columns, fill_value = 0)\n",
    "X_test_encode = X_test_encode.reindex(columns = X_train_encode.columns, fill_value = 0)\n",
    "\n",
    "#initialize and fit scaler on training set\n",
    "scaler = StandardScaler()\n",
    "X_train_scaled = scaler.fit_transform(X_train_encode)\n",
    "\n",
    "#transform validation and test data\n",
    "X_val_scaled = scaler.transform(X_val_encode)\n",
    "X_test_scaled = scaler.transform(X_test_encode)\n",
    "\n",
    "#manually set class order\n",
    "label_encoder = LabelEncoder()\n",
    "label_encoder.classes_ = np.array([\"Low\", \"Moderate\", \"High\"])  #custom order\n",
    "\n",
    "#encode labels\n",
    "y_train_encode = label_encoder.transform(y_train)\n",
    "y_val_encode = label_encoder.transform(y_val)\n",
    "y_test_encode = label_encoder.transform(y_test)\n",
    "\n",
    "#rename matrices and vectors for ease of use\n",
    "X_train2 = X_train_scaled\n",
    "X_val2 = X_val_scaled\n",
    "X_test2 = X_test_scaled\n",
    "\n",
    "y_train2 = y_train_encode\n",
    "y_val2 = y_val_encode\n",
    "y_test2 = y_test_encode"
   ]
  },
  {
   "cell_type": "code",
   "execution_count": 14,
   "id": "0a51a218-839f-49c8-bfb4-f6c339304062",
   "metadata": {},
   "outputs": [
    {
     "name": "stdout",
     "output_type": "stream",
     "text": [
      "Label Encoding Mapping: {0: 'Low', 1: 'Moderate', 2: 'High'}\n"
     ]
    }
   ],
   "source": [
    "#display mapping of original labels to encoded values\n",
    "label_mapping = dict(enumerate(label_encoder.classes_))\n",
    "print(\"Label Encoding Mapping:\", label_mapping)"
   ]
  },
  {
   "cell_type": "markdown",
   "id": "546fe0c9-93b2-490d-b75a-8d88e0f05987",
   "metadata": {},
   "source": [
    "Now that we have our data preprocess, it's time to begin the modeling process."
   ]
  },
  {
   "cell_type": "markdown",
   "id": "76b3f02a-5fe6-4017-93a9-3d37571092df",
   "metadata": {},
   "source": [
    "# KNN Model Building"
   ]
  },
  {
   "cell_type": "code",
   "execution_count": 15,
   "id": "ea358a6f-c56d-40d6-98b3-1ad28ac8f9f0",
   "metadata": {},
   "outputs": [],
   "source": [
    "#libraries \n",
    "from sklearn.neighbors import KNeighborsClassifier\n",
    "from sklearn.metrics import classification_report, accuracy_score, f1_score, precision_score, recall_score\n",
    "from sklearn.model_selection import GridSearchCV, cross_val_score\n",
    "from sklearn.inspection import permutation_importance\n",
    "from matplotlib.colors import ListedColormap\n",
    "from sklearn.feature_selection import RFE"
   ]
  },
  {
   "cell_type": "markdown",
   "id": "3f940715-0f13-412c-940c-6e2b9ee42f15",
   "metadata": {},
   "source": [
    "## Initial KNN Model"
   ]
  },
  {
   "cell_type": "code",
   "execution_count": 16,
   "id": "ead0d7da-532d-450e-a007-09831d6f84a3",
   "metadata": {},
   "outputs": [
    {
     "name": "stdout",
     "output_type": "stream",
     "text": [
      "Validation Accuracy: 0.68\n",
      "Weighted F1-Score: 0.68\n",
      "Weighted Precision: 0.72\n",
      "Weighted Recall: 0.68\n",
      "Confusion Matrix:\n",
      "Predicted   0   1  2\n",
      "Actual              \n",
      "0           8  11  0\n",
      "1          12  53  0\n",
      "2           2   6  6\n"
     ]
    }
   ],
   "source": [
    "# Initial KNN Model \n",
    "knn = KNeighborsClassifier(n_neighbors = 3)\n",
    "knn.fit(X_train2, y_train2)\n",
    "y_pred_knn = knn.predict(X_val2)\n",
    "y_pred_knn\n",
    "\n",
    "# Evaluate initial model\n",
    "knn_acc = accuracy_score(y_val2, y_pred_knn)\n",
    "knn_f1 = f1_score(y_val2, y_pred_knn, average='weighted')\n",
    "knn_precision = precision_score(y_val2, y_pred_knn, average='weighted')\n",
    "knn_recall = recall_score(y_val2, y_pred_knn, average='weighted')\n",
    "confusion_crosstab = pd.crosstab(y_val2, y_pred_knn, rownames = ['Actual'], colnames = ['Predicted'])\n",
    "\n",
    "# Print Accuracy Metrics\n",
    "print(f'Validation Accuracy: {knn_acc:.2f}')\n",
    "print(f'Weighted F1-Score: {knn_f1:.2f}')\n",
    "print(f'Weighted Precision: {knn_precision:.2f}')\n",
    "print(f'Weighted Recall: {knn_recall:.2f}')\n",
    "print('Confusion Matrix:')\n",
    "print(confusion_crosstab)"
   ]
  },
  {
   "cell_type": "markdown",
   "id": "75dbfb2b-c7ce-46fb-af7e-2c64777d04e5",
   "metadata": {},
   "source": [
    "**Initial Analysis:**\n",
    "Initial Models prove to be moderately effective at classification with accuracy around 68%. We will fine tune this model in hopes of increasing these results and reducing error. "
   ]
  },
  {
   "cell_type": "markdown",
   "id": "93345ff6-7c13-4dba-b20e-bb2659dbd03c",
   "metadata": {},
   "source": [
    "### Parameter Exploration and Tuning"
   ]
  },
  {
   "cell_type": "code",
   "execution_count": 17,
   "id": "c0aa0d88-ebff-4ff7-aa8a-dc03897f5125",
   "metadata": {},
   "outputs": [
    {
     "data": {
      "image/png": "[encoded data removed]",
      "text/plain": [
       "<Figure size 432x288 with 1 Axes>"
      ]
     },
     "metadata": {
      "needs_background": "light"
     },
     "output_type": "display_data"
    }
   ],
   "source": [
    "# Testing Number of Neighbors \n",
    "\n",
    "acc = {}\n",
    "f1 = {}\n",
    "prec = {}\n",
    "recall = {}\n",
    "k_levels = list(range(3, 30))\n",
    "\n",
    "for k in k_levels:\n",
    "    knn = KNeighborsClassifier(n_neighbors=k)\n",
    "    knn.fit(X_train2, y_train2)\n",
    "    y_pred = knn.predict(X_val2)\n",
    "    acc[k] = accuracy_score(y_val2, y_pred)\n",
    "    f1[k] = f1_score(y_val2, y_pred,  average='weighted')\n",
    "    prec[k] = precision_score(y_val2, y_pred, average='weighted')\n",
    "    recall[k] = recall_score(y_val2, y_pred, average='weighted')\n",
    "    \n",
    "ACC = list(acc.values())\n",
    "F1 = list(f1.values())\n",
    "PREC = list(prec.values())\n",
    "RECALL = list(recall.values())\n",
    "\n",
    "# Plotting K v/s accuracy graph\n",
    "plt.plot(k_levels, ACC, label = 'Accuracy Score',)\n",
    "plt.plot(k_levels, F1, label = 'F1 Score')\n",
    "plt.plot(k_levels, PREC, label = 'Precision Score')\n",
    "plt.plot(k_levels, RECALL, label = 'Recall Score',  linestyle='dotted')\n",
    "plt.xlabel('K')\n",
    "plt.ylabel('Score')\n",
    "plt.legend(loc = 'lower left')\n",
    "plt.show()"
   ]
  },
  {
   "cell_type": "markdown",
   "id": "a59bb015-ec6c-4bf3-94c4-5c87f297a8f6",
   "metadata": {},
   "source": [
    "**Initial Score Analysis**\n",
    "Exploring the impact on the number of neighbors was the first step taken to fine tune the initial KNN model. This helps inform which values are best to be included in the gridsearch.It seems we will explore k values between 5 and 20 for the next step in our model tuning. This range of values seems to have the lower chance of overfitting than values outside of this range.  Something interesting happened in that our accuracy scores were identical to the recall scores. This shows that the weighting of the classes within the recall impacts the misclassification errors to be distributed evenly by the class frequency."
   ]
  },
  {
   "cell_type": "code",
   "execution_count": 18,
   "id": "ee9ca193-eeff-4d80-84a5-ea045c6670ef",
   "metadata": {},
   "outputs": [
    {
     "name": "stdout",
     "output_type": "stream",
     "text": [
      "Best Parameters: {'metric': 'euclidean', 'n_neighbors': 12, 'p': 1, 'weights': 'uniform'}\n",
      "Best Cross-Validation Score: 0.7599297729870977\n"
     ]
    }
   ],
   "source": [
    "# Grid Search for Best Parameters\n",
    "param_grid = {\n",
    "    'n_neighbors': [5, 6, 7, 8, 9, 10, 11, 12, 13, 14, 15, 16, 17, 18, 19, 20],\n",
    "    'weights': ['uniform', 'distance'],\n",
    "    'metric': ['euclidean', 'manhattan', 'minkowski'],\n",
    "    'p': [1, 2]\n",
    "}\n",
    "\n",
    "knn = KNeighborsClassifier()\n",
    "grid_search = GridSearchCV(knn, param_grid, cv=5, scoring='accuracy')\n",
    "grid_search.fit(X_train2, y_train2)\n",
    "\n",
    "# Print Best Parameters and Score\n",
    "print(\"Best Parameters:\", grid_search.best_params_)\n",
    "print(\"Best Cross-Validation Score:\", grid_search.best_score_)"
   ]
  },
  {
   "cell_type": "code",
   "execution_count": 19,
   "id": "3a82ef80-3b93-46ea-96c8-b8c10f2e94b7",
   "metadata": {},
   "outputs": [
    {
     "name": "stdout",
     "output_type": "stream",
     "text": [
      "Cross-validation scores: [0.73248408 0.77707006 0.74522293 0.75641026 0.78846154]\n",
      "Mean CV score: 0.760\n"
     ]
    }
   ],
   "source": [
    "# Cross Validation with Best Parameters \n",
    "best_knn = grid_search.best_estimator_\n",
    "best_knn.fit(X_train2, y_train2)\n",
    "cv_scores = cross_val_score(best_knn, X_train2, y_train2, cv=5)\n",
    "\n",
    "print(\"Cross-validation scores:\", cv_scores)\n",
    "print(f'Mean CV score: {np.mean(cv_scores):.3f}')"
   ]
  },
  {
   "cell_type": "markdown",
   "id": "662066be-aba6-44cc-afb0-eb1748407ecd",
   "metadata": {},
   "source": [
    "### Testing Best Model"
   ]
  },
  {
   "cell_type": "code",
   "execution_count": 20,
   "id": "87c580dd-64d1-4977-82c9-972c57beffd4",
   "metadata": {},
   "outputs": [
    {
     "name": "stdout",
     "output_type": "stream",
     "text": [
      "Validation Accuracy: 0.76\n",
      "Weighted F1-Score: 0.72\n",
      "Weighted Precision: 0.77\n",
      "Weighted Recall: 0.76\n",
      "Confusion Matrix:\n",
      "Predicted  0   1  2\n",
      "Actual             \n",
      "0          6  13  0\n",
      "1          3  62  0\n",
      "2          0   8  6\n"
     ]
    }
   ],
   "source": [
    "# Validation Set \n",
    "\n",
    "y_pred_knn = best_knn.predict(X_val2)\n",
    "y_pred_knn\n",
    "\n",
    "# Evaluate best model on validation set \n",
    "knn_acc_val = accuracy_score(y_val2, y_pred_knn)\n",
    "knn_f1_val = f1_score(y_val2, y_pred_knn, average='weighted')\n",
    "knn_precision_val = precision_score(y_val2, y_pred_knn, average='weighted')\n",
    "knn_recall_val = recall_score(y_val2, y_pred_knn, average='weighted')\n",
    "confusion_crosstab_val = pd.crosstab(y_val2, y_pred_knn, rownames = ['Actual'], colnames = ['Predicted'])\n",
    "\n",
    "# Print Accuracy Metrics\n",
    "print(f'Validation Accuracy: {knn_acc_val:.2f}')\n",
    "print(f'Weighted F1-Score: {knn_f1_val:.2f}')\n",
    "print(f'Weighted Precision: {knn_precision_val:.2f}')\n",
    "print(f'Weighted Recall: {knn_recall_val:.2f}')\n",
    "print('Confusion Matrix:')\n",
    "print(confusion_crosstab_val)"
   ]
  },
  {
   "cell_type": "code",
   "execution_count": 21,
   "id": "2769b174-b5d6-43b9-a84d-9ae69b8bee80",
   "metadata": {},
   "outputs": [
    {
     "name": "stdout",
     "output_type": "stream",
     "text": [
      "Test Accuracy: 0.74\n",
      "Weighted F1-Score: 0.70\n",
      "Weighted Precision: 0.76\n",
      "Weighted Recall: 0.74\n",
      "Confusion Matrix:\n",
      "Predicted  0   1  2\n",
      "Actual             \n",
      "0          4  14  0\n",
      "1          2  64  0\n",
      "2          0   9  5\n"
     ]
    }
   ],
   "source": [
    "# Test Set \n",
    "y_pred_knn = best_knn.predict(X_test2)\n",
    "y_pred_knn\n",
    "\n",
    "# Evaluate best model on test set \n",
    "knn_acc_test = accuracy_score(y_test2, y_pred_knn)\n",
    "knn_f1_test = f1_score(y_test2, y_pred_knn, average='weighted')\n",
    "knn_precision_test = precision_score(y_test2, y_pred_knn, average='weighted')\n",
    "knn_recall_test = recall_score(y_test2, y_pred_knn, average='weighted')\n",
    "confusion_crosstab_test = pd.crosstab(y_test2, y_pred_knn, rownames = ['Actual'], colnames = ['Predicted'])\n",
    "\n",
    "# Print Accuracy Metrics\n",
    "print(f'Test Accuracy: {knn_acc_test:.2f}')\n",
    "print(f'Weighted F1-Score: {knn_f1_test:.2f}')\n",
    "print(f'Weighted Precision: {knn_precision_test:.2f}')\n",
    "print(f'Weighted Recall: {knn_recall_test:.2f}')\n",
    "print('Confusion Matrix:')\n",
    "print(confusion_crosstab_test)"
   ]
  },
  {
   "cell_type": "code",
   "execution_count": 22,
   "id": "1c278d40-a383-4bda-b63e-2d67a6541e69",
   "metadata": {},
   "outputs": [
    {
     "data": {
      "image/png": "[encoded data removed]",
      "text/plain": [
       "<Figure size 576x360 with 1 Axes>"
      ]
     },
     "metadata": {
      "needs_background": "light"
     },
     "output_type": "display_data"
    }
   ],
   "source": [
    "# Bar graph of scores \n",
    "\n",
    "knn_scores = pd.DataFrame()\n",
    "knn_scores['Validation'] = [knn_acc_val, knn_f1_val, knn_precision_val, knn_recall_val]\n",
    "knn_scores['Test'] = [knn_acc_test, knn_f1_test, knn_precision_test, knn_recall_test]\n",
    "\n",
    "\n",
    "# Plot the DataFrame as a bar chart\n",
    "knn_scores.plot(kind='bar', figsize=(8, 5), alpha=0.7)\n",
    "\n",
    "# Formatting\n",
    "plt.xlabel('Metrics')\n",
    "plt.ylabel('Score')\n",
    "plt.title('KNN Performance on Validation & Test Sets')\n",
    "plt.xticks(ticks=[0, 1, 2, 3], labels=['Accuracy', 'F1-score', 'Precision', 'Recall'])\n",
    "plt.ylim(0, 1) \n",
    "plt.legend(title='Dataset')\n",
    "\n",
    "# Show the plot\n",
    "plt.show()"
   ]
  },
  {
   "cell_type": "markdown",
   "id": "cf0f5453-e017-4ff4-a882-ecbafc721100",
   "metadata": {},
   "source": [
    "When comparing the validation and test set accuracies, we do not see much drastic changes and therefore this means our model is not overfitting too much to the training set and is performing well on both the held out sets. "
   ]
  },
  {
   "cell_type": "markdown",
   "id": "ccfc29c0-cd49-49f0-9062-07fb283e493f",
   "metadata": {},
   "source": [
    "## Feature Importance "
   ]
  },
  {
   "cell_type": "code",
   "execution_count": 23,
   "id": "8ed19bb1-b987-42b9-a9cc-cc8227b84fe3",
   "metadata": {},
   "outputs": [
    {
     "name": "stdout",
     "output_type": "stream",
     "text": [
      "\n",
      "Permutation Feature Importance:\n",
      "                        Feature    Importance\n",
      "5     Stress_Level_Self_Report  6.487867e-02\n",
      "4       Stress_Level_Biosensor  6.334610e-02\n",
      "10      Physical_Activity_High  3.524904e-02\n",
      "15          Sleep_Quality_Poor  2.145594e-02\n",
      "13          Sleep_Quality_Good  1.787995e-02\n",
      "3     Blood_Pressure_Diastolic  6.130268e-03\n",
      "12  Physical_Activity_Moderate  5.108557e-03\n",
      "14      Sleep_Quality_Moderate  4.342273e-03\n",
      "1                   Heart_Rate  2.554278e-03\n",
      "11       Physical_Activity_Low  1.021711e-03\n",
      "18               Mood_Stressed -4.440892e-17\n",
      "9                     Gender_M -2.043423e-03\n",
      "8                     Gender_F -2.043423e-03\n",
      "17                Mood_Neutral -3.065134e-03\n",
      "0                          Age -3.065134e-03\n",
      "6                  Study_Hours -3.575990e-03\n",
      "16                  Mood_Happy -5.108557e-03\n",
      "2      Blood_Pressure_Systolic -6.385696e-03\n",
      "7                Project_Hours -6.385696e-03\n"
     ]
    }
   ],
   "source": [
    "# Determine Feature Importance\n",
    "\n",
    "perm_importance = permutation_importance(best_knn, X_train2, y_train2, scoring='accuracy')\n",
    "\n",
    "feature_importances = perm_importance.importances_mean\n",
    "features = X_train_encode.columns\n",
    "\n",
    "importance_df = pd.DataFrame({'Feature': features, 'Importance': feature_importances})\n",
    "importance_df = importance_df.sort_values(by=\"Importance\", ascending=False)\n",
    "print(\"\\nPermutation Feature Importance:\\n\", importance_df)"
   ]
  },
  {
   "cell_type": "code",
   "execution_count": 24,
   "id": "baa612ce-9dba-42a0-84aa-87f1f798db49",
   "metadata": {},
   "outputs": [
    {
     "data": {
      "image/png": "[encoded data removed]",
      "text/plain": [
       "<Figure size 720x432 with 1 Axes>"
      ]
     },
     "metadata": {
      "needs_background": "light"
     },
     "output_type": "display_data"
    }
   ],
   "source": [
    "# Visualize Feature Importance\n",
    "plt.figure(figsize=(10, 6))\n",
    "plt.barh(importance_df['Feature'], importance_df['Importance'])\n",
    "plt.title(\"Feature Importance (Permutation)\")\n",
    "plt.xlabel(\"Importance\")\n",
    "plt.ylabel(\"Feature\")\n",
    "plt.show()"
   ]
  },
  {
   "cell_type": "markdown",
   "id": "29355768-deda-47de-8ba7-1a769b186009",
   "metadata": {},
   "source": [
    "#### Analysis:\n",
    "\n",
    "Permutation Importance method assesses the impact on accuracy score when this variable is removed during a particular permutation.\n",
    "\n",
    "Most impacful features: Stress_Level_Biosensor, Stress_Level_Self_Report, Physical_Activity_High, Sleep_Quality_Poor. These are the same important features as those found through the Trees exploration. "
   ]
  },
  {
   "cell_type": "markdown",
   "id": "b83f4510-65ae-4a99-9c7f-67fc85a63c1e",
   "metadata": {},
   "source": [
    "## Rerun KNN With Top 4 Features "
   ]
  },
  {
   "cell_type": "code",
   "execution_count": 25,
   "id": "1fef0bd6-82db-4fd2-a528-cfd8cec9fdc6",
   "metadata": {},
   "outputs": [
    {
     "name": "stdout",
     "output_type": "stream",
     "text": [
      "(783, 4) (98, 4) (98, 4)\n"
     ]
    }
   ],
   "source": [
    "important_features = ['Stress_Level_Self_Report', 'Stress_Level_Biosensor', 'Sleep_Quality_Poor', 'Physical_Activity_High']\n",
    "\n",
    "#create subsets\n",
    "X_train_subset = X_train_encode[important_features]\n",
    "X_val_subset = X_val_encode[important_features]\n",
    "X_test_subset = X_test_encode[important_features]\n",
    "\n",
    "#scale subsets - note we created subset from the encoded, so scaling still needs to be done.\n",
    "scaler = StandardScaler()\n",
    "X_train_subset_scaled = scaler.fit_transform(X_train_subset)\n",
    "X_val_subset_scaled = scaler.transform(X_val_subset)\n",
    "X_test_subset_scaled = scaler.transform(X_test_subset)\n",
    "\n",
    "#check the shapes\n",
    "print(X_train_subset_scaled.shape, X_val_subset_scaled.shape, X_test_subset_scaled.shape)\n",
    "\n",
    "#rename for ease of use\n",
    "X_train3 = X_train_subset_scaled\n",
    "X_val3 = X_val_subset_scaled\n",
    "X_test3 = X_test_subset_scaled"
   ]
  },
  {
   "cell_type": "markdown",
   "id": "8b52fc97-eb28-410d-925e-a5cb99f8f42e",
   "metadata": {},
   "source": [
    "### Initial Model On Top 4 Features"
   ]
  },
  {
   "cell_type": "code",
   "execution_count": 26,
   "id": "a2ac350c-678d-44c6-a678-10b73a53052a",
   "metadata": {},
   "outputs": [
    {
     "name": "stdout",
     "output_type": "stream",
     "text": [
      "Validation Accuracy: 0.93\n",
      "Weighted F1-Score: 0.93\n",
      "Weighted Precision: 0.93\n",
      "Weighted Recall: 0.93\n",
      "Confusion Matrix:\n",
      "Predicted   0   1   2\n",
      "Actual               \n",
      "0          17   2   0\n",
      "1           0  62   3\n",
      "2           0   2  12\n"
     ]
    }
   ],
   "source": [
    "# Initial KNN Model \n",
    "pruned_knn = KNeighborsClassifier(n_neighbors = 3)\n",
    "pruned_knn.fit(X_train3, y_train2)\n",
    "y_pred_knn = pruned_knn.predict(X_val3)\n",
    "y_pred_knn\n",
    "\n",
    "# Evaluate initial model\n",
    "knn_acc = accuracy_score(y_val2, y_pred_knn)\n",
    "knn_f1 = f1_score(y_val2, y_pred_knn, average='weighted')\n",
    "knn_precision = precision_score(y_val2, y_pred_knn, average='weighted')\n",
    "knn_recall = recall_score(y_val2, y_pred_knn, average='weighted')\n",
    "confusion_crosstab = pd.crosstab(y_val2, y_pred_knn, rownames = ['Actual'], colnames = ['Predicted'])\n",
    "\n",
    "# Print Accuracy Metrics\n",
    "print(f'Validation Accuracy: {knn_acc:.2f}')\n",
    "print(f'Weighted F1-Score: {knn_f1:.2f}')\n",
    "print(f'Weighted Precision: {knn_precision:.2f}')\n",
    "print(f'Weighted Recall: {knn_recall:.2f}')\n",
    "print('Confusion Matrix:')\n",
    "print(confusion_crosstab)"
   ]
  },
  {
   "cell_type": "markdown",
   "id": "bb6191a1-5336-4bda-95b1-b8e889abb1c1",
   "metadata": {},
   "source": [
    "### Parameter Tuning On Top 4 Features"
   ]
  },
  {
   "cell_type": "code",
   "execution_count": 27,
   "id": "a9dc0eb0-a651-4cb1-83ba-ca2fdc54db31",
   "metadata": {},
   "outputs": [
    {
     "data": {
      "image/png": "[encoded data removed]",
      "text/plain": [
       "<Figure size 432x288 with 1 Axes>"
      ]
     },
     "metadata": {
      "needs_background": "light"
     },
     "output_type": "display_data"
    }
   ],
   "source": [
    "# Testing Number of Neighbors \n",
    "\n",
    "acc = {}\n",
    "f1 = {}\n",
    "prec = {}\n",
    "recall = {}\n",
    "k_levels = list(range(3, 30))\n",
    "\n",
    "for k in k_levels:\n",
    "    knn = KNeighborsClassifier(n_neighbors=k)\n",
    "    knn.fit(X_train3, y_train2)\n",
    "    y_pred = knn.predict(X_val3)\n",
    "    acc[k] = accuracy_score(y_val2, y_pred)\n",
    "    f1[k] = f1_score(y_val2, y_pred,  average='weighted')\n",
    "    prec[k] = precision_score(y_val2, y_pred, average='weighted')\n",
    "    recall[k] = recall_score(y_val2, y_pred, average='weighted')\n",
    "    \n",
    "ACC = list(acc.values())\n",
    "F1 = list(f1.values())\n",
    "PREC = list(prec.values())\n",
    "RECALL = list(recall.values())\n",
    "\n",
    "# Plotting K v/s accuracy graph\n",
    "plt.plot(k_levels, ACC, label = 'Accuracy Score',)\n",
    "plt.plot(k_levels, F1, label = 'F1 Score')\n",
    "plt.plot(k_levels, PREC, label = 'Precision Score')\n",
    "plt.plot(k_levels, RECALL, label = 'Recall Score',  linestyle='dotted')\n",
    "plt.xlabel('K')\n",
    "plt.ylabel('Score')\n",
    "plt.legend(loc = 'lower left')\n",
    "plt.show()"
   ]
  },
  {
   "cell_type": "code",
   "execution_count": 28,
   "id": "04bf4680-9cd0-42dd-a801-9ebf8108cf36",
   "metadata": {},
   "outputs": [
    {
     "name": "stdout",
     "output_type": "stream",
     "text": [
      "Best Parameters: {'metric': 'manhattan', 'n_neighbors': 7, 'p': 1, 'weights': 'distance'}\n",
      "Best Cross-Validation Score: 0.9667646578474605\n"
     ]
    }
   ],
   "source": [
    "# Grid Search for Best Parameters\n",
    "param_grid = {\n",
    "    'n_neighbors': [5, 6, 7, 8, 9, 10, 11, 12, 13, 14, 15, 16, 17, 18, 19, 20],\n",
    "    'weights': ['uniform', 'distance'],\n",
    "    'metric': ['euclidean', 'manhattan', 'minkowski'],\n",
    "    'p': [1, 2]\n",
    "}\n",
    "\n",
    "knn = KNeighborsClassifier()\n",
    "grid_search = GridSearchCV(knn, param_grid, cv=5, scoring='accuracy')\n",
    "grid_search.fit(X_train3, y_train2)\n",
    "\n",
    "# Print Best Parameters and Score\n",
    "print(\"Best Parameters:\", grid_search.best_params_)\n",
    "print(\"Best Cross-Validation Score:\", grid_search.best_score_)"
   ]
  },
  {
   "cell_type": "code",
   "execution_count": 29,
   "id": "53062be9-34a6-4b72-ba4b-ff2346acc985",
   "metadata": {},
   "outputs": [
    {
     "name": "stdout",
     "output_type": "stream",
     "text": [
      "Cross-validation scores: [0.98089172 0.95541401 0.98726115 0.94871795 0.96153846]\n",
      "Mean CV score: 0.9667646578474605\n"
     ]
    }
   ],
   "source": [
    "# Cross Validation with Best Parameters \n",
    "best_knn = grid_search.best_estimator_\n",
    "best_knn.fit(X_train3, y_train2)\n",
    "cv_scores = cross_val_score(best_knn, X_train3, y_train2, cv=5)\n",
    "\n",
    "print(\"Cross-validation scores:\", cv_scores)\n",
    "print(\"Mean CV score:\", np.mean(cv_scores))"
   ]
  },
  {
   "cell_type": "markdown",
   "id": "7bdc5c8b-3b5a-4a41-956f-f2fdbfb8b027",
   "metadata": {},
   "source": [
    "### Testing Top 4 Features Model"
   ]
  },
  {
   "cell_type": "code",
   "execution_count": 30,
   "id": "b0bb8923-ace4-4780-b0d3-c17155adb5f4",
   "metadata": {},
   "outputs": [
    {
     "name": "stdout",
     "output_type": "stream",
     "text": [
      "Validation Accuracy: 0.95\n",
      "Weighted F1-Score: 0.95\n",
      "Weighted Precision: 0.95\n",
      "Weighted Recall: 0.95\n",
      "Confusion Matrix:\n",
      "Predicted   0   1   2\n",
      "Actual               \n",
      "0          17   2   0\n",
      "1           0  64   1\n",
      "2           0   2  12\n"
     ]
    }
   ],
   "source": [
    "# Validation Set \n",
    "\n",
    "y_pred_knn = best_knn.predict(X_val3)\n",
    "y_pred_knn\n",
    "\n",
    "# Evaluate best model on validation set \n",
    "knn_acc = accuracy_score(y_val2, y_pred_knn)\n",
    "knn_f1 = f1_score(y_val2, y_pred_knn, average='weighted')\n",
    "knn_precision = precision_score(y_val2, y_pred_knn, average='weighted')\n",
    "knn_recall = recall_score(y_val2, y_pred_knn, average='weighted')\n",
    "confusion_crosstab = pd.crosstab(y_val2, y_pred_knn, rownames = ['Actual'], colnames = ['Predicted'])\n",
    "\n",
    "# Print Accuracy Metrics\n",
    "print(f'Validation Accuracy: {knn_acc:.2f}')\n",
    "print(f'Weighted F1-Score: {knn_f1:.2f}')\n",
    "print(f'Weighted Precision: {knn_precision:.2f}')\n",
    "print(f'Weighted Recall: {knn_recall:.2f}')\n",
    "print('Confusion Matrix:')\n",
    "print(confusion_crosstab)"
   ]
  },
  {
   "cell_type": "code",
   "execution_count": 31,
   "id": "660fc6aa-ae71-42b3-9a97-1dda4c6ebdb6",
   "metadata": {},
   "outputs": [
    {
     "name": "stdout",
     "output_type": "stream",
     "text": [
      "Test Accuracy: 0.96\n",
      "Weighted F1-Score: 0.96\n",
      "Weighted Precision: 0.96\n",
      "Weighted Recall: 0.96\n",
      "Confusion Matrix:\n",
      "Predicted   0   1   2\n",
      "Actual               \n",
      "0          16   2   0\n",
      "1           1  65   0\n",
      "2           0   1  13\n"
     ]
    }
   ],
   "source": [
    "# Test Set \n",
    "y_pred_knn = best_knn.predict(X_test3)\n",
    "y_pred_knn\n",
    "\n",
    "# Evaluate best model on test set \n",
    "knn_acc = accuracy_score(y_test2, y_pred_knn)\n",
    "knn_f1 = f1_score(y_test2, y_pred_knn, average='weighted')\n",
    "knn_precision = precision_score(y_test2, y_pred_knn, average='weighted')\n",
    "knn_recall = recall_score(y_test2, y_pred_knn, average='weighted')\n",
    "confusion_crosstab = pd.crosstab(y_test2, y_pred_knn, rownames = ['Actual'], colnames = ['Predicted'])\n",
    "\n",
    "# Print Accuracy Metrics\n",
    "print(f'Test Accuracy: {knn_acc:.2f}')\n",
    "print(f'Weighted F1-Score: {knn_f1:.2f}')\n",
    "print(f'Weighted Precision: {knn_precision:.2f}')\n",
    "print(f'Weighted Recall: {knn_recall:.2f}')\n",
    "print('Confusion Matrix:')\n",
    "print(confusion_crosstab)"
   ]
  },
  {
   "cell_type": "markdown",
   "id": "272b2b5f-163c-4fae-b6c1-ac49c8f10920",
   "metadata": {},
   "source": [
    "**Prune Model Accuracy:**\n",
    "\n",
    "When focusing strictly on the top 4 impactful features of the dataset, we are able to increase our accuracy from values in the 70s to values  closer to 0.95 and 0.96. This is an impressive increase and the test on both the validation and test sets indicates that we likely aren't seeing a singularly remarkable increase, but a generalizable model to multiple test sets. "
   ]
  },
  {
   "cell_type": "markdown",
   "id": "efa28e0b-84e2-45d0-8ee1-8f6aa01a3efc",
   "metadata": {},
   "source": [
    "### Feature Importance of Top 4 Features"
   ]
  },
  {
   "cell_type": "code",
   "execution_count": 32,
   "id": "9ff8e324-0aad-4261-bcbe-d06078247b7a",
   "metadata": {},
   "outputs": [
    {
     "name": "stdout",
     "output_type": "stream",
     "text": [
      "\n",
      "Permutation Feature Importance:\n",
      "                     Feature  Importance\n",
      "0  Stress_Level_Self_Report    0.355811\n",
      "1    Stress_Level_Biosensor    0.353768\n",
      "3    Physical_Activity_High    0.065900\n",
      "2        Sleep_Quality_Poor    0.060281\n"
     ]
    }
   ],
   "source": [
    "# Determine Feature Importance\n",
    "\n",
    "perm_importance = permutation_importance(best_knn, X_train3, y_train2, scoring='accuracy')\n",
    "\n",
    "feature_importances = perm_importance.importances_mean\n",
    "features = X_train_subset.columns\n",
    "\n",
    "importance_df = pd.DataFrame({'Feature': features, 'Importance': feature_importances})\n",
    "importance_df = importance_df.sort_values(by=\"Importance\", ascending=False)\n",
    "print(\"\\nPermutation Feature Importance:\\n\", importance_df)"
   ]
  },
  {
   "cell_type": "code",
   "execution_count": 33,
   "id": "ddf1031b-20d4-498d-9dfc-1991b615f1b7",
   "metadata": {},
   "outputs": [
    {
     "data": {
      "image/png": "[encoded data removed]",
      "text/plain": [
       "<Figure size 720x432 with 1 Axes>"
      ]
     },
     "metadata": {
      "needs_background": "light"
     },
     "output_type": "display_data"
    }
   ],
   "source": [
    "# Visualize Feature Importance\n",
    "plt.figure(figsize=(10, 6))\n",
    "plt.barh(importance_df['Feature'], importance_df['Importance'])\n",
    "plt.title(\"Feature Importance (Permutation)\")\n",
    "plt.xlabel(\"Importance\")\n",
    "plt.ylabel(\"Feature\")\n",
    "plt.show()"
   ]
  },
  {
   "cell_type": "markdown",
   "id": "cc34c3e3-4bbb-4329-a8e3-12e6c6ebb462",
   "metadata": {},
   "source": [
    "Removing other features also increased the importance impact of these features. This makes sense and seems somewhat proportional to the size of impact these features had when amongst the other variables with the Stress_Level_Biosensor and Stress_Level_Self_Report having the greatest impact and the attributes of High Physical Actviity and Poor Sleep Quality having much less but still some impact on the accurcacy metrics. "
   ]
  },
  {
   "cell_type": "markdown",
   "id": "43b1a0fa-2941-4d66-87d0-05de79416ce4",
   "metadata": {},
   "source": [
    "Future Notes:\n",
    "Education around Stress Reduction techniques,\n",
    "High Physical Activity has greater impact on the score than Low or Moderate Physical Activity. \n",
    "Poor Sleep Quality has great impact on the score than Good or Great Sleep Quality. "
   ]
  }
 ],
 "metadata": {
  "kernelspec": {
   "display_name": "Python 3",
   "language": "python",
   "name": "python3"
  },
  "language_info": {
   "codemirror_mode": {
    "name": "ipython",
    "version": 3
   },
   "file_extension": ".py",
   "mimetype": "text/x-python",
   "name": "python",
   "nbconvert_exporter": "python",
   "pygments_lexer": "ipython3",
   "version": "3.6.8"
  }
 },
 "nbformat": 4,
 "nbformat_minor": 5
}
